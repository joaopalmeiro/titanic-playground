{
 "cells": [
  {
   "cell_type": "code",
   "execution_count": null,
   "metadata": {},
   "outputs": [],
   "source": [
    "import pandas as pd\n",
    "import altair as alt"
   ]
  },
  {
   "cell_type": "markdown",
   "metadata": {},
   "source": [
    "## Altair Settings"
   ]
  },
  {
   "cell_type": "code",
   "execution_count": null,
   "metadata": {},
   "outputs": [],
   "source": [
    "alt.renderers.names()"
   ]
  },
  {
   "cell_type": "code",
   "execution_count": null,
   "metadata": {},
   "outputs": [],
   "source": [
    "alt.renderers.enable('default')"
   ]
  },
  {
   "cell_type": "code",
   "execution_count": null,
   "metadata": {},
   "outputs": [],
   "source": [
    "# Source: https://github.com/altair-viz/altair/issues/1325\n",
    "\n",
    "def roboto():\n",
    "    font = \"Roboto Light\"\n",
    "    \n",
    "    return {\n",
    "        \"config\" : {\n",
    "             \"title\": {'font': font},\n",
    "             \"axis\": {\n",
    "                  \"labelFont\": font,\n",
    "                  \"titleFont\": font\n",
    "             },\n",
    "             \"header\": {\n",
    "                  \"labelFont\": font,\n",
    "                  \"titleFont\": font\n",
    "             },\n",
    "             \"legend\": {\n",
    "                  \"labelFont\": font,\n",
    "                  \"titleFont\": font\n",
    "             }\n",
    "        }\n",
    "    }\n",
    "\n",
    "alt.themes.register('roboto', roboto)\n",
    "alt.themes.enable('roboto')"
   ]
  },
  {
   "cell_type": "markdown",
   "metadata": {},
   "source": [
    "## Variables"
   ]
  },
  {
   "cell_type": "code",
   "execution_count": null,
   "metadata": {},
   "outputs": [],
   "source": [
    "PATH_TRAIN = \"./data/train.csv\"\n",
    "PATH_TEST = \"./data/test.csv\""
   ]
  },
  {
   "cell_type": "code",
   "execution_count": null,
   "metadata": {},
   "outputs": [],
   "source": [
    "CLASS = \"Survived\"\n",
    "ID = \"PassengerId\""
   ]
  },
  {
   "cell_type": "code",
   "execution_count": null,
   "metadata": {},
   "outputs": [],
   "source": [
    "train_raw = pd.read_csv(PATH_TRAIN)"
   ]
  },
  {
   "cell_type": "code",
   "execution_count": null,
   "metadata": {},
   "outputs": [],
   "source": [
    "train_raw.head()"
   ]
  },
  {
   "cell_type": "code",
   "execution_count": null,
   "metadata": {},
   "outputs": [],
   "source": [
    "train_raw.columns"
   ]
  },
  {
   "cell_type": "code",
   "execution_count": null,
   "metadata": {},
   "outputs": [],
   "source": [
    "train_raw.dtypes"
   ]
  },
  {
   "cell_type": "code",
   "execution_count": null,
   "metadata": {},
   "outputs": [],
   "source": [
    "def check_is_unique(df, cols, skipna=False):\n",
    "    for col in cols:\n",
    "        if skipna:\n",
    "            check = df[col].dropna().is_unique\n",
    "        else:\n",
    "            check = df[col].is_unique\n",
    "            \n",
    "        print(f\"{col}: {check}.\")"
   ]
  },
  {
   "cell_type": "code",
   "execution_count": null,
   "metadata": {},
   "outputs": [],
   "source": [
    "check_is_unique(train_raw, ['PassengerId', 'Name', 'Ticket', 'Cabin'])"
   ]
  },
  {
   "cell_type": "code",
   "execution_count": null,
   "metadata": {},
   "outputs": [],
   "source": [
    "train_raw[CLASS].value_counts()"
   ]
  },
  {
   "cell_type": "code",
   "execution_count": null,
   "metadata": {},
   "outputs": [],
   "source": [
    "def class_balance_plot(df, class_var):\n",
    "    source = df[class_var].value_counts().rename_axis('Label').reset_index(name='Count')\n",
    "    \n",
    "    y_axis = alt.Axis(\n",
    "        labelAngle = 0,\n",
    "        title = None\n",
    "    )\n",
    "    \n",
    "    plot = alt.Chart(source).mark_bar().encode(\n",
    "        x = alt.Y('Label:N', axis=y_axis),\n",
    "        y = 'Count:Q',\n",
    "        tooltip = ['Label', 'Count']\n",
    "    )\n",
    "    \n",
    "    return(plot)"
   ]
  },
  {
   "cell_type": "code",
   "execution_count": null,
   "metadata": {},
   "outputs": [],
   "source": [
    "class_balance_plot(train_raw, CLASS)"
   ]
  },
  {
   "cell_type": "code",
   "execution_count": null,
   "metadata": {},
   "outputs": [],
   "source": []
  }
 ],
 "metadata": {
  "kernelspec": {
   "display_name": "Python 3",
   "language": "python",
   "name": "python3"
  },
  "language_info": {
   "codemirror_mode": {
    "name": "ipython",
    "version": 3
   },
   "file_extension": ".py",
   "mimetype": "text/x-python",
   "name": "python",
   "nbconvert_exporter": "python",
   "pygments_lexer": "ipython3",
   "version": "3.7.4"
  }
 },
 "nbformat": 4,
 "nbformat_minor": 4
}
